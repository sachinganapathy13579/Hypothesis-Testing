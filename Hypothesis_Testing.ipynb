{
 "cells": [
  {
   "cell_type": "markdown",
   "id": "44c18a83",
   "metadata": {},
   "source": [
    "## 1) A F&B Manager wants to determine whether there is any significant difference in the diameter of the cutlet between two units. \n",
    "## A randomly selected sample of cutlets was collected from both units and measured? Analyze the data and draw inferences at 5% significance level.\n",
    "## Please state the assumptions and tests that you carried out to check validity of the assumptions."
   ]
  },
  {
   "cell_type": "markdown",
   "id": "d142492e",
   "metadata": {},
   "source": [
    "* Null Hypothesis (Ho): There is no significant difference in the diameter of the cutlet between two units(Mean of UnitA and UnitB are equal).\n",
    "* Alternate Hypothesis (Ha): There is significant difference in the diameter of the cutlet between two units (Mean of UnitA and UnitB are not equal)."
   ]
  },
  {
   "cell_type": "code",
   "execution_count": 1,
   "id": "7b3544d3",
   "metadata": {},
   "outputs": [],
   "source": [
    "import pandas as pd \n",
    "import numpy as np\n",
    "from scipy.stats import ttest_ind"
   ]
  },
  {
   "cell_type": "code",
   "execution_count": 2,
   "id": "8bbd2c4e",
   "metadata": {},
   "outputs": [],
   "source": [
    "cutlets_data=pd.read_csv('Cutlets.csv')"
   ]
  },
  {
   "cell_type": "code",
   "execution_count": 3,
   "id": "9e4e915e",
   "metadata": {},
   "outputs": [],
   "source": [
    "cutlets_data=cutlets_data.rename(columns={'Unit A':'UnitA',\"Unit B\":\"UnitB\"})"
   ]
  },
  {
   "cell_type": "code",
   "execution_count": 4,
   "id": "f24ea90f",
   "metadata": {},
   "outputs": [
    {
     "data": {
      "text/plain": [
       "47.223947245995"
      ]
     },
     "execution_count": 4,
     "metadata": {},
     "output_type": "execute_result"
    }
   ],
   "source": [
    "tstat,pvalue=ttest_ind(cutlets_data.UnitA,cutlets_data.UnitB,alternative=('two-sided'))\n",
    "pvalue_in_percentage=pvalue*100\n",
    "pvalue_in_percentage"
   ]
  },
  {
   "cell_type": "markdown",
   "id": "6fe18806",
   "metadata": {},
   "source": [
    "#### * Since pvalue is greater than the 5% significance levcel that is 47% so we fail to reject the null hypothesis,that is There is significant difference in the diameter of the cutlet between two units."
   ]
  },
  {
   "cell_type": "markdown",
   "id": "4f5add2a",
   "metadata": {},
   "source": [
    "## 2) A hospital wants to determine whether there is any difference in the average Turn Around Time (TAT) of reports of the laboratories on their preferred list. \n",
    "## They collected a random sample and recorded TAT for reports of 4 laboratories. TAT is defined as sample collected to report dispatch.\n",
    "## Analyze the data and determine whether there is any difference in average TAT among the different laboratories at 5% significance level."
   ]
  },
  {
   "cell_type": "markdown",
   "id": "7973f514",
   "metadata": {},
   "source": [
    "* Null Hypothesis (Ho): There is no difference in the average TAT among the different laboratories at 5% significance level (Mu1=Mu2=Mu3=Mu4).\n",
    "* Alternate Hypothesis (Ha): There is difference in the average TAT among the different laboratories at 5% significance level (Atleast one pair of population mean is different)"
   ]
  },
  {
   "cell_type": "code",
   "execution_count": 5,
   "id": "798e30ea",
   "metadata": {},
   "outputs": [],
   "source": [
    "import pandas as pd \n",
    "from scipy.stats import f_oneway"
   ]
  },
  {
   "cell_type": "code",
   "execution_count": 6,
   "id": "70baa325",
   "metadata": {},
   "outputs": [],
   "source": [
    "labtat_data=pd.read_csv('LabTAT.csv')"
   ]
  },
  {
   "cell_type": "code",
   "execution_count": 7,
   "id": "f6fd6e75",
   "metadata": {},
   "outputs": [
    {
     "data": {
      "text/plain": [
       "2.1156708949992415e-55"
      ]
     },
     "execution_count": 7,
     "metadata": {},
     "output_type": "execute_result"
    }
   ],
   "source": [
    "tstat,pvalue=f_oneway(labtat_data.iloc[:,0],labtat_data.iloc[:,1],labtat_data.iloc[:,2],labtat_data.iloc[:,3])\n",
    "pvalue_in_percentage=pvalue*100\n",
    "pvalue_in_percentage"
   ]
  },
  {
   "cell_type": "markdown",
   "id": "4624cd19",
   "metadata": {},
   "source": [
    "#### * Since pvalue is lesser than the 5% significance levcel we reject the null hypothesis, that is There is no difference in the     average TAT among the different laboratories at 5% significance level (Mu1=Mu2=Mu3=Mu)"
   ]
  },
  {
   "cell_type": "markdown",
   "id": "a32b8766",
   "metadata": {},
   "source": [
    "## 3) Sales of products in four different regions is tabulated for males and females. Find if male-female buyer rations are similar across regions."
   ]
  },
  {
   "cell_type": "markdown",
   "id": "d87ac846",
   "metadata": {},
   "source": [
    "* Null Hypothesis (Ho): The Male -Female buyer rations are smiliar across regions (MuE=MuW=MuN=MuS).\n",
    "* Alternate Hypothesis (Ha): The Male -Female buyer rations are not smiliar across regions (Atleast one pair of population mean is different)."
   ]
  },
  {
   "cell_type": "code",
   "execution_count": 8,
   "id": "87525c4d",
   "metadata": {},
   "outputs": [],
   "source": [
    "import pandas as pd \n",
    "from scipy.stats import chi2_contingency"
   ]
  },
  {
   "cell_type": "code",
   "execution_count": 9,
   "id": "551b001a",
   "metadata": {},
   "outputs": [],
   "source": [
    "buyerRatio_data=pd.read_csv(\"BuyerRatio.csv\")"
   ]
  },
  {
   "cell_type": "code",
   "execution_count": 10,
   "id": "a47576ae",
   "metadata": {},
   "outputs": [],
   "source": [
    "Contingency_Table=pd.DataFrame({'East':[buyerRatio_data.East.value_counts().index[0],buyerRatio_data.East.value_counts().index[1]],\n",
    "                               'West': [buyerRatio_data.West.value_counts().index[0],buyerRatio_data.West.value_counts().index[1]],\n",
    "                               'North':[buyerRatio_data.North.value_counts().index[0],buyerRatio_data.North.value_counts().index[1]],\n",
    "                               'South':[buyerRatio_data.South.value_counts().index[0],buyerRatio_data.South.value_counts().index[1]]},index=[\"Males\",'Females'])"
   ]
  },
  {
   "cell_type": "code",
   "execution_count": 11,
   "id": "7cc5ec49",
   "metadata": {},
   "outputs": [
    {
     "data": {
      "text/plain": [
       "66.03094907091882"
      ]
     },
     "execution_count": 11,
     "metadata": {},
     "output_type": "execute_result"
    }
   ],
   "source": [
    "_,pvalue,_,_=chi2_contingency(Contingency_Table)\n",
    "pvalue_in_percentage=pvalue*100\n",
    "pvalue_in_percentage"
   ]
  },
  {
   "cell_type": "markdown",
   "id": "72df3919",
   "metadata": {},
   "source": [
    "#### * Since pvalue is greater than the 5% significance levcel we fail to reject the null hypothesis, that is The Male -Female buyer rations are smiliar across regions (MuE=MuW=MuN=MuS)."
   ]
  },
  {
   "cell_type": "markdown",
   "id": "52663af5",
   "metadata": {},
   "source": [
    "## 4) TeleCall uses 4 centers around the globe to process customer order forms. They audit a certain %  of the customer order forms. Any error in order form renders it defective and has to be reworked before processing.  \n",
    "## The manager wants to check whether the defective %  varies by centre. \n",
    "## Please analyze the data at 5% significance level and help the manager draw appropriate inferences."
   ]
  },
  {
   "cell_type": "markdown",
   "id": "e4979d08",
   "metadata": {},
   "source": [
    "* Null Hypothesis (Ho): The defective % of customer order forms does not vary by centre. (Mu1=Mu2=Mu3=Mu4).\n",
    "* Alternate Hypothesis (Ha): The defective % of customer order forms does vary by centre. (Atleast one pair of the  centers mean defective % is different)."
   ]
  },
  {
   "cell_type": "code",
   "execution_count": 12,
   "id": "cf5b6edc",
   "metadata": {},
   "outputs": [],
   "source": [
    "import pandas as pd \n",
    "import numpy as np \n",
    "from scipy.stats import chi2_contingency "
   ]
  },
  {
   "cell_type": "code",
   "execution_count": 13,
   "id": "6a62f8de",
   "metadata": {},
   "outputs": [],
   "source": [
    "customer_data=pd.read_csv('Costomer+OrderForm.csv')"
   ]
  },
  {
   "cell_type": "code",
   "execution_count": 14,
   "id": "f043598b",
   "metadata": {},
   "outputs": [],
   "source": [
    "Contingency_Table=pd.DataFrame({\"Phillippines\":[customer_data.Phillippines.value_counts()[0],customer_data.Phillippines.value_counts()[1]],\n",
    "                  \"India\":[customer_data.India.value_counts()[0],customer_data.India.value_counts()[1]],\n",
    "                  \"Indonesia\":[customer_data.Indonesia.value_counts()[0],customer_data.Indonesia.value_counts()[1]],\n",
    "                  \"Malta\":[customer_data.Malta.value_counts()[0],customer_data.Malta.value_counts()[1]]\n",
    "                 },index=[\"Error Free\",\"Defective\"])"
   ]
  },
  {
   "cell_type": "code",
   "execution_count": 15,
   "id": "f4ffba1b",
   "metadata": {},
   "outputs": [
    {
     "data": {
      "text/plain": [
       "27.71020991233135"
      ]
     },
     "execution_count": 15,
     "metadata": {},
     "output_type": "execute_result"
    }
   ],
   "source": [
    "_,pvalue,_,_=chi2_contingency(Contingency_Table)\n",
    "pvalue_in_percentage=pvalue*100\n",
    "pvalue_in_percentage"
   ]
  },
  {
   "cell_type": "markdown",
   "id": "aaca536c",
   "metadata": {},
   "source": [
    "#### * Since pvalue is greater than the 5% significance levcel we fail to reject the null hypothesis, that is The defective % of customer order forms does not vary by centre. (Mu1=Mu2=Mu3=Mu)"
   ]
  }
 ],
 "metadata": {
  "kernelspec": {
   "display_name": "Python 3 (ipykernel)",
   "language": "python",
   "name": "python3"
  },
  "language_info": {
   "codemirror_mode": {
    "name": "ipython",
    "version": 3
   },
   "file_extension": ".py",
   "mimetype": "text/x-python",
   "name": "python",
   "nbconvert_exporter": "python",
   "pygments_lexer": "ipython3",
   "version": "3.7.15"
  }
 },
 "nbformat": 4,
 "nbformat_minor": 5
}
